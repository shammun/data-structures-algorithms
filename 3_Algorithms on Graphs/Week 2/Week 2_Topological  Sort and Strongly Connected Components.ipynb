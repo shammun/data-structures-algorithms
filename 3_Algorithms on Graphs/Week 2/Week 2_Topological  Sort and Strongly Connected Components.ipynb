{
 "cells": [
  {
   "cell_type": "markdown",
   "id": "563c72ea",
   "metadata": {},
   "source": [
    "### Topological Sort"
   ]
  },
  {
   "cell_type": "code",
   "execution_count": 3,
   "id": "f48a0fd8",
   "metadata": {},
   "outputs": [],
   "source": [
    "def topologicalSort(G):\n",
    "    visited = set()\n",
    "    post_order = []\n",
    "    \n",
    "    def dfs(node):\n",
    "        visited.add(node)\n",
    "        for neighbor in G[node]:\n",
    "            if neighbor not in visited:\n",
    "                dfs(neighbor)\n",
    "        post_order.append(node)\n",
    "        \n",
    "    for node in G:\n",
    "        if node not in visited:\n",
    "            dfs(node)\n",
    "            \n",
    "    sorted_vertices = list(reversed(post_order))\n",
    "    return sorted_vertices"
   ]
  },
  {
   "cell_type": "code",
   "execution_count": 4,
   "id": "cb403bc5",
   "metadata": {},
   "outputs": [
    {
     "name": "stdout",
     "output_type": "stream",
     "text": [
      "Sorted vertices:  ['A', 'B', 'C', 'D']\n"
     ]
    }
   ],
   "source": [
    "graph = {\n",
    "    'A': ['B', 'C'],\n",
    "    'B': ['C', 'D'],\n",
    "    'C': ['D'],\n",
    "    'D': []\n",
    "}\n",
    "\n",
    "sorted_nodes = topologicalSort(graph)\n",
    "print(\"Sorted vertices: \", sorted_nodes)"
   ]
  },
  {
   "cell_type": "markdown",
   "id": "6d35efaf",
   "metadata": {},
   "source": [
    "### Strongly Connected Components"
   ]
  },
  {
   "cell_type": "markdown",
   "id": "e6c6eb96",
   "metadata": {},
   "source": [
    "#### Algorithm\n",
    "\n",
    "##### EasySCC(G)\n",
    "```\n",
    "for each vertex v:\n",
    "    run explore(v) to determine vertices reachable from v\n",
    "for each vertex v:\n",
    "    find the u reachable from v that can also reach v\n",
    "these are the SCCs\n",
    "```\n"
   ]
  },
  {
   "cell_type": "code",
   "execution_count": 3,
   "id": "3e52c14e",
   "metadata": {},
   "outputs": [],
   "source": [
    "def explore(v, visited, adj_list, stack):\n",
    "    visited.add(v)\n",
    "    for neighbor in adj_list[v]:\n",
    "        if neighbor not in visited:\n",
    "            explore(neighbor, visited, adj_list, stack)\n",
    "    stack.append(v)\n",
    "    \n",
    "def transpose(graph):\n",
    "    transposed = {}\n",
    "    for vertex in graph:\n",
    "        transposed[vertex] = []\n",
    "    for vertex in graph:\n",
    "        for neighbor in graph[vertex]:\n",
    "            transposed[neighbor].append(vertex)\n",
    "    return transposed\n",
    "\n",
    "def find_scc(graph):\n",
    "    visited = set()\n",
    "    stack = []\n",
    "    for vertex in graph:\n",
    "        if vertex not in visited:\n",
    "            explore(vertex, visited, graph, stack)\n",
    "    \n",
    "    transposed_graph = transpose(graph)\n",
    "    \n",
    "    visited.clear()\n",
    "    scc_list = []\n",
    "    \n",
    "    while stack:\n",
    "        vertex = stack.pop()\n",
    "        if vertex not in visited:\n",
    "            scc = []\n",
    "            explore(vertex, visited, transposed_graph, scc)\n",
    "            scc_list.append(scc)\n",
    "    return scc_list\n",
    "\n"
   ]
  },
  {
   "cell_type": "code",
   "execution_count": 4,
   "id": "77aa2fdc",
   "metadata": {},
   "outputs": [
    {
     "name": "stdout",
     "output_type": "stream",
     "text": [
      "Strongly Connected Components:\n",
      "['B', 'C', 'A']\n",
      "['D']\n",
      "['E']\n",
      "['G', 'F']\n",
      "['I', 'J', 'H']\n"
     ]
    }
   ],
   "source": [
    "# Example graph\n",
    "graph = {\n",
    "    'A': ['B'],\n",
    "    'B': ['C', 'D', 'E'],\n",
    "    'C': ['A', 'F'],\n",
    "    'D': ['E'],\n",
    "    'E': ['F'],\n",
    "    'F': ['G'],\n",
    "    'G': ['F', 'H'],\n",
    "    'H': ['I'],\n",
    "    'I': ['J'],\n",
    "    'J': ['H']\n",
    "}\n",
    "sccs = find_scc(graph)\n",
    "print(\"Strongly Connected Components:\")\n",
    "for scc in sccs:\n",
    "    print(scc)"
   ]
  },
  {
   "cell_type": "code",
   "execution_count": 5,
   "id": "87512d2f",
   "metadata": {},
   "outputs": [
    {
     "name": "stdout",
     "output_type": "stream",
     "text": [
      "Strongly Connected Components:\n",
      "['A']\n",
      "['B']\n",
      "['C']\n",
      "['E']\n",
      "['F']\n",
      "['D']\n"
     ]
    }
   ],
   "source": [
    "graph2 = {\n",
    "    'A': ['B'],\n",
    "    'B': ['C'],\n",
    "    'C': ['D', 'E'],\n",
    "    'D': [],\n",
    "    'E': ['F'],\n",
    "    'F': []\n",
    "}\n",
    "\n",
    "sccs = find_scc(graph2)\n",
    "print(\"Strongly Connected Components:\")\n",
    "for scc in sccs:\n",
    "    print(scc)"
   ]
  },
  {
   "cell_type": "code",
   "execution_count": 17,
   "id": "46f01290",
   "metadata": {},
   "outputs": [
    {
     "name": "stdout",
     "output_type": "stream",
     "text": [
      "Stack is:  ['J', 'I', 'H', 'G', 'F', 'C', 'E', 'D', 'B', 'A']\n",
      "Transposed graph is:  {'A': ['C'], 'B': ['A'], 'C': ['B'], 'D': ['B'], 'E': ['B', 'D'], 'F': ['C', 'E', 'G'], 'G': ['F'], 'H': ['G', 'J'], 'I': ['H'], 'J': ['I']}\n",
      "The popped element or vertex is:  A\n",
      "scc_list is:  [['B', 'C', 'A']]\n",
      "The popped element or vertex is:  B\n",
      "The popped element or vertex is:  D\n",
      "scc_list is:  [['B', 'C', 'A'], ['D']]\n",
      "The popped element or vertex is:  E\n",
      "scc_list is:  [['B', 'C', 'A'], ['D'], ['E']]\n",
      "The popped element or vertex is:  C\n",
      "The popped element or vertex is:  F\n",
      "scc_list is:  [['B', 'C', 'A'], ['D'], ['E'], ['G', 'F']]\n",
      "The popped element or vertex is:  G\n",
      "The popped element or vertex is:  H\n",
      "scc_list is:  [['B', 'C', 'A'], ['D'], ['E'], ['G', 'F'], ['I', 'J', 'H']]\n",
      "The popped element or vertex is:  I\n",
      "The popped element or vertex is:  J\n",
      "Strongly Connected Components:\n",
      "['B', 'C', 'A']\n",
      "['D']\n",
      "['E']\n",
      "['G', 'F']\n",
      "['I', 'J', 'H']\n"
     ]
    }
   ],
   "source": [
    "def explore(v, visited, adj_list, stack):\n",
    "    visited.add(v)\n",
    "    for neighbor in adj_list[v]:\n",
    "        if neighbor not in visited:\n",
    "            explore(neighbor, visited, adj_list, stack)\n",
    "    stack.append(v)\n",
    "\n",
    "def transpose(graph):\n",
    "    transposed = {}\n",
    "    for vertex in graph:\n",
    "        transposed[vertex] = []\n",
    "    for vertex in graph:\n",
    "        for neighbor in graph[vertex]:\n",
    "            transposed[neighbor].append(vertex)\n",
    "    return transposed\n",
    "\n",
    "def find_scc(graph):\n",
    "    visited = set()\n",
    "    stack = []\n",
    "    for vertex in graph:\n",
    "        if vertex not in visited:\n",
    "            explore(vertex, visited, graph, stack)\n",
    "    print(\"Stack is: \", stack)\n",
    "\n",
    "    transposed_graph = transpose(graph)\n",
    "    print(\"Transposed graph is: \", transposed_graph)\n",
    "\n",
    "    visited.clear()\n",
    "    scc_list = []\n",
    "\n",
    "    while stack:\n",
    "        vertex = stack.pop()\n",
    "        print(\"The popped element or vertex is: \", vertex)\n",
    "        if vertex not in visited:\n",
    "            scc = []\n",
    "            explore(vertex, visited, transposed_graph, scc)\n",
    "            scc_list.append(scc)\n",
    "            print(\"scc_list is: \", scc_list)\n",
    "\n",
    "    return scc_list\n",
    "\n",
    "\n",
    "# Example graph\n",
    "graph = {\n",
    "    'A': ['B'],\n",
    "    'B': ['C', 'D', 'E'],\n",
    "    'C': ['A', 'F'],\n",
    "    'D': ['E'],\n",
    "    'E': ['F'],\n",
    "    'F': ['G'],\n",
    "    'G': ['F', 'H'],\n",
    "    'H': ['I'],\n",
    "    'I': ['J'],\n",
    "    'J': ['H']\n",
    "}\n",
    "\n",
    "\n",
    "\n",
    "sccs = find_scc(graph)\n",
    "print(\"Strongly Connected Components:\")\n",
    "for scc in sccs:\n",
    "    print(scc)\n"
   ]
  },
  {
   "cell_type": "markdown",
   "id": "16c44a54",
   "metadata": {},
   "source": [
    "### Improvements on SCC by using reverse graph components"
   ]
  },
  {
   "cell_type": "markdown",
   "id": "221cfab8",
   "metadata": {},
   "source": [
    "Let G<sup>R</sup> be the graph obtained from G by reversing all the edges.\n",
    "\n",
    "### get_sink_components(G)\n",
    "\n",
    "```\n",
    "GR and G have same SCCs\n",
    "Source component of GR are sink components of G\n",
    "Find sink components of G by running DFS on GR\n",
    "The vertex with largest postorder in GR is in a sink SCC of G\n",
    "```"
   ]
  },
  {
   "cell_type": "code",
   "execution_count": 52,
   "id": "ce2d513a",
   "metadata": {},
   "outputs": [
    {
     "name": "stdout",
     "output_type": "stream",
     "text": [
      "Sink Components of G:\n",
      "['J', 'I', 'H']\n",
      "['G', 'F']\n",
      "['E']\n",
      "['D']\n",
      "['C', 'B', 'A']\n"
     ]
    }
   ],
   "source": [
    "def dfs(graph, vertex, visited, stack):\n",
    "    visited[vertex] = True\n",
    "    for neighbor in graph[vertex]:\n",
    "        if not visited[neighbor]:\n",
    "            dfs(graph, neighbor, visited, stack)\n",
    "    stack.append(vertex)\n",
    "    \n",
    "def get_sink_components(graph):\n",
    "    # Step 1: Create the reversed graph GR\n",
    "    reversed_graph = {v: [] for v in graph}\n",
    "    for vertex in graph:\n",
    "        for neighbor in graph[vertex]:\n",
    "            reversed_graph[neighbor].append(vertex)\n",
    "            \n",
    "    # Step 2: Run DFS on GR to determine finishing time\n",
    "    visited = {v: False for v in reversed_graph}\n",
    "    stack = []\n",
    "    for vertex in reversed_graph:\n",
    "        if not visited[vertex]:\n",
    "            dfs(reversed_graph, vertex, visited, stack)\n",
    "    \n",
    "    # Step 3: Sort vertices in reversed order based on finishing time\n",
    "    sorted_vertices = stack[::-1]\n",
    "    \n",
    "    # Step 4: Identify the sink components\n",
    "    visited = {v: False for v in graph}\n",
    "    sink_components = []\n",
    "    for vertex in sorted_vertices:\n",
    "        if not visited[vertex]:\n",
    "            component = []\n",
    "            dfs(graph, vertex, visited, component)\n",
    "            sink_components.append(component)\n",
    "    return sink_components\n",
    "    \n",
    "graph = {\n",
    "    'A': ['B'],\n",
    "    'B': ['C', 'D', 'E'],\n",
    "    'C': ['A', 'F'],\n",
    "    'D': ['E'],\n",
    "    'E': ['F'],\n",
    "    'F': ['G'],\n",
    "    'G': ['F', 'H'],\n",
    "    'H': ['I'],\n",
    "    'I': ['J'],\n",
    "    'J': ['H']\n",
    "}\n",
    "sink_components = get_sink_components(graph)\n",
    "print(\"Sink Components of G:\")\n",
    "for component in sink_components:\n",
    "    print(component)"
   ]
  },
  {
   "cell_type": "code",
   "execution_count": 63,
   "id": "ea9e19d7",
   "metadata": {},
   "outputs": [
    {
     "name": "stdout",
     "output_type": "stream",
     "text": [
      "A\n",
      "B\n",
      "C\n",
      "D\n",
      "E\n",
      "F\n",
      "G\n",
      "H\n",
      "I\n",
      "J\n"
     ]
    }
   ],
   "source": [
    "graph = {\n",
    "    'A': ['B'],\n",
    "    'B': ['C', 'D', 'E'],\n",
    "    'C': ['A', 'F'],\n",
    "    'D': ['E'],\n",
    "    'E': ['F'],\n",
    "    'F': ['G'],\n",
    "    'G': ['F', 'H'],\n",
    "    'H': ['I'],\n",
    "    'I': ['J'],\n",
    "    'J': ['H']\n",
    "}\n",
    "reversed_graph = {v: [] for v in graph}\n",
    "for vertex in graph:\n",
    "    for neighbor in graph[vertex]:\n",
    "        reversed_graph[neighbor].append(vertex)\n",
    "            \n",
    "# Step 2: Run DFS on GR to determine finishing time\n",
    "visited = {v: False for v in reversed_graph}\n",
    "stack = []\n",
    "for vertex in reversed_graph:\n",
    "    print(vertex)\n",
    "    if not visited[vertex]:\n",
    "        dfs(reversed_graph, vertex, visited, stack)"
   ]
  },
  {
   "cell_type": "code",
   "execution_count": 62,
   "id": "f7ade4d8",
   "metadata": {},
   "outputs": [
    {
     "data": {
      "text/plain": [
       "{'A': ['C'],\n",
       " 'B': ['A'],\n",
       " 'C': ['B'],\n",
       " 'D': ['B'],\n",
       " 'E': ['B', 'D'],\n",
       " 'F': ['C', 'E', 'G'],\n",
       " 'G': ['F'],\n",
       " 'H': ['G', 'J'],\n",
       " 'I': ['H'],\n",
       " 'J': ['I']}"
      ]
     },
     "execution_count": 62,
     "metadata": {},
     "output_type": "execute_result"
    }
   ],
   "source": [
    "reversed_graph"
   ]
  },
  {
   "cell_type": "code",
   "execution_count": 61,
   "id": "02603061",
   "metadata": {},
   "outputs": [
    {
     "data": {
      "text/plain": [
       "['B', 'C', 'A', 'D', 'E', 'G', 'F', 'I', 'J', 'H']"
      ]
     },
     "execution_count": 61,
     "metadata": {},
     "output_type": "execute_result"
    }
   ],
   "source": [
    "stack"
   ]
  },
  {
   "cell_type": "markdown",
   "id": "e627d922",
   "metadata": {},
   "source": [
    "#### SCCs(G) -- Efficient version -- Didn't implement the way it is mentioned\n",
    "\n",
    "```\n",
    "run DFS(GR)\n",
    "let v have largest post number\n",
    "run Explore(v)\n",
    "vertices found are first SCC\n",
    "Remove from G and repeat\n",
    "```"
   ]
  },
  {
   "cell_type": "code",
   "execution_count": 29,
   "id": "63e343fa",
   "metadata": {},
   "outputs": [
    {
     "name": "stdout",
     "output_type": "stream",
     "text": [
      "Sink Components of G:\n",
      "['J', 'I', 'H']\n",
      "['G', 'F']\n",
      "['E']\n",
      "['D']\n",
      "['C', 'B', 'A']\n"
     ]
    }
   ],
   "source": [
    "def dfs(graph, vertex, visited, stack):\n",
    "    visited[vertex] = True\n",
    "    for neighbor in graph[vertex]:\n",
    "        if not visited[neighbor]:\n",
    "            dfs(graph, neighbor, visited, stack)\n",
    "    stack.append(vertex)\n",
    "\n",
    "def explore(graph, vertex, visited, component):\n",
    "    visited[vertex] = True\n",
    "    for neighbor in graph[vertex]:\n",
    "        if not visited[neighbor]:\n",
    "            explore(graph, neighbor, visited, component)\n",
    "    component.append(vertex)\n",
    "\n",
    "def get_largest_postorder_vertex(graph):\n",
    "    visited = {v: False for v in graph}\n",
    "    stack = []\n",
    "    for vertex in graph:\n",
    "        if not visited[vertex]:\n",
    "            dfs(graph, vertex, visited, stack)\n",
    "    return stack[-1]\n",
    "\n",
    "def SCCs(graph):\n",
    "    sccs = []\n",
    "    \n",
    "    reversed_graph = {v: [] for v in graph}\n",
    "    for vertex in graph:\n",
    "        for neighbor in graph[vertex]:\n",
    "            reversed_graph[neighbor].append(vertex)\n",
    "\n",
    "    visited = {v: False for v in graph}\n",
    "    post_order = []\n",
    "    # Step 1: Run DFS on the reversed graph GR\n",
    "    for vertex in graph:\n",
    "        if not visited[vertex]:\n",
    "            dfs(reversed_graph, vertex, visited, post_order)\n",
    "\n",
    "    visited = {v: False for v in graph}\n",
    "    for vertex in reversed(post_order):\n",
    "        if not visited[vertex]:\n",
    "            component = []\n",
    "            explore(graph, vertex, visited, component)\n",
    "            sccs.append(component)\n",
    "\n",
    "    return sccs\n",
    "\n",
    "# Example usage\n",
    "graph = {\n",
    "    'A': ['B'],\n",
    "    'B': ['C', 'D', 'E'],\n",
    "    'C': ['A', 'F'],\n",
    "    'D': ['E'],\n",
    "    'E': ['F'],\n",
    "    'F': ['G'],\n",
    "    'G': ['F', 'H'],\n",
    "    'H': ['I'],\n",
    "    'I': ['J'],\n",
    "    'J': ['H']\n",
    "}\n",
    "\n",
    "sccs = SCCs(graph)\n",
    "print(\"Sink Components of G:\")\n",
    "for component in sccs:\n",
    "    print(component)\n"
   ]
  },
  {
   "cell_type": "markdown",
   "id": "75c7e785",
   "metadata": {},
   "source": [
    "### SCCs(G)\n",
    "\n",
    "```\n",
    "Run DFS(GR)\n",
    "for every vertex v in reverse postorder:\n",
    "    if not visited(v):\n",
    "        Explore(v)\n",
    "        mark visited vertices as new SCC\n",
    "```"
   ]
  },
  {
   "cell_type": "code",
   "execution_count": 65,
   "id": "ea0ef822",
   "metadata": {},
   "outputs": [
    {
     "name": "stdout",
     "output_type": "stream",
     "text": [
      "Strongly Connected Components:\n",
      "['H', 'I', 'J']\n",
      "['F', 'G']\n",
      "['E']\n",
      "['D']\n",
      "['A', 'B', 'C']\n"
     ]
    }
   ],
   "source": [
    "def dfs(graph, vertex, visited, stack):\n",
    "    visited[vertex] = True\n",
    "    for neighbor in graph[vertex]:\n",
    "        if not visited[neighbor]:\n",
    "            dfs(graph, neighbor, visited, stack)\n",
    "    stack.append(vertex)\n",
    "    \n",
    "def explore(graph, vertex, visited, component):\n",
    "    visited[vertex] = True\n",
    "    component.append(vertex)\n",
    "    for neighbor in graph[vertex]:\n",
    "        if not visited[neighbor]:\n",
    "            explore(graph, neighbor, visited, component)\n",
    "            \n",
    "def SCCs(graph):\n",
    "    # Step 1: Run DFS on the reversed graph GR\n",
    "    reversed_graph = {v: [] for v in graph}\n",
    "    for vertex in graph:\n",
    "        for neighbor in graph[vertex]:\n",
    "            reversed_graph[neighbor].append(vertex)\n",
    "            \n",
    "    visited = {v: False for v in graph}\n",
    "    stack = []\n",
    "    for vertex in graph:\n",
    "        if not visited[vertex]:\n",
    "            dfs(reversed_graph, vertex, visited, stack)\n",
    "    \n",
    "    # Step 2: Explore vertices in reverse postorder\n",
    "    sccs = []\n",
    "    visited = {v: False for v in graph}\n",
    "    for vertex in reversed(stack):\n",
    "        if not visited[vertex]:\n",
    "            component = []\n",
    "            explore(graph, vertex, visited, component)\n",
    "            sccs.append(component)\n",
    "            #visited.update({v: True for v in component})\n",
    "            \n",
    "    return sccs\n",
    "\n",
    "# Example usage\n",
    "graph = {\n",
    "    'A': ['B'],\n",
    "    'B': ['C', 'D', 'E'],\n",
    "    'C': ['A', 'F'],\n",
    "    'D': ['E'],\n",
    "    'E': ['F'],\n",
    "    'F': ['G'],\n",
    "    'G': ['F', 'H'],\n",
    "    'H': ['I'],\n",
    "    'I': ['J'],\n",
    "    'J': ['H']\n",
    "}\n",
    "\n",
    "sccs = SCCs(graph)\n",
    "print(\"Strongly Connected Components:\")\n",
    "for component in sccs:\n",
    "    print(component)"
   ]
  },
  {
   "cell_type": "markdown",
   "id": "0f0740ac",
   "metadata": {},
   "source": [
    "### Assignment 1"
   ]
  },
  {
   "cell_type": "markdown",
   "id": "176af9a5",
   "metadata": {},
   "source": [
    "Task. Check whether a given directed graph with 𝑛 vertices and 𝑚 edges contains a cycle. Output 1 if the graph contains a cycle and 0 otherwise. \n",
    "\n",
    "```\n",
    "Input:\n",
    "4 4\n",
    "1 2\n",
    "4 1\n",
    "2 3\n",
    "3 1\n",
    "Output:\n",
    "1\n",
    "\n",
    "Input:\n",
    "5 7\n",
    "1 2\n",
    "2 3\n",
    "1 3\n",
    "3 4\n",
    "1 4\n",
    "2 5\n",
    "3 5\n",
    "\n",
    "Output:\n",
    "0\n",
    "```"
   ]
  },
  {
   "cell_type": "code",
   "execution_count": 72,
   "id": "33eac501",
   "metadata": {},
   "outputs": [
    {
     "name": "stdout",
     "output_type": "stream",
     "text": [
      "5 7\n",
      "1 2\n",
      "2 3\n",
      "1 3\n",
      "3 4\n",
      "1 4\n",
      "2 5\n",
      "3 5\n",
      "edges [[1, 2], [2, 3], [1, 3], [3, 4], [1, 4], [2, 5], [3, 5]]\n",
      "adj is [[1, 2, 3], [2, 4], [3, 4], [], []]\n",
      "0\n"
     ]
    }
   ],
   "source": [
    "def explore(adj, v, visited, rec_stack):\n",
    "    visited[v] = True\n",
    "    rec_stack[v] = True\n",
    "    for neighbor in adj[v]:\n",
    "        if not visited[neighbor] and explore(adj, neighbor, visited, rec_stack):\n",
    "            return True\n",
    "        elif rec_stack[neighbor]:\n",
    "            return True\n",
    "    rec_stack[v] = False\n",
    "    return False\n",
    "\n",
    "def acyclic(adj):\n",
    "    n = len(adj)\n",
    "    visited = [False] * n\n",
    "    rec_stack = [False] * n\n",
    "    for v in range(n):\n",
    "        if not visited[v] and explore(adj, v, visited, rec_stack):\n",
    "            return 1\n",
    "    return 0\n",
    "\n",
    "if __name__ == '__main__':\n",
    "    n, m = map(int, input().split())\n",
    "    edges = [list(map(int, input().split())) for _ in range(m)]\n",
    "    print(\"edges\", edges)\n",
    "    adj = [[] for _ in range(n)]\n",
    "    for (a, b) in edges:\n",
    "        adj[a - 1].append(b - 1)\n",
    "    print('adj is', adj)\n",
    "    print(acyclic(adj))\n"
   ]
  },
  {
   "cell_type": "markdown",
   "id": "e68f9a1a",
   "metadata": {},
   "source": [
    "### Assignment 2\n",
    "\n",
    "Task. Compute a topological ordering of a given directed acyclic graph (DAG) with 𝑛 vertices and 𝑚 edges.\n",
    "\n",
    "```\n",
    "Input:\n",
    "4 3\n",
    "1 2\n",
    "4 1\n",
    "3 1\n",
    "Output:\n",
    "4 3 1 2\n",
    "\n",
    "Input:\n",
    "4 1\n",
    "3 1\n",
    "Output:\n",
    "2 3 1 4\n",
    "\n",
    "Input:\n",
    "5 7\n",
    "2 1\n",
    "3 2\n",
    "3 1\n",
    "4 3\n",
    "4 1\n",
    "5 2\n",
    "5 3\n",
    "Output:\n",
    "5 4 3 2 1\n",
    "```"
   ]
  },
  {
   "cell_type": "code",
   "execution_count": 1,
   "id": "5a121cd3",
   "metadata": {},
   "outputs": [
    {
     "ename": "ValueError",
     "evalue": "not enough values to unpack (expected 2, got 0)",
     "output_type": "error",
     "traceback": [
      "\u001b[1;31m---------------------------------------------------------------------------\u001b[0m",
      "\u001b[1;31mValueError\u001b[0m                                Traceback (most recent call last)",
      "\u001b[1;32m~\\AppData\\Local\\Temp/ipykernel_4656/1005798055.py\u001b[0m in \u001b[0;36m<module>\u001b[1;34m\u001b[0m\n\u001b[0;32m     18\u001b[0m \u001b[1;32mif\u001b[0m \u001b[0m__name__\u001b[0m \u001b[1;33m==\u001b[0m \u001b[1;34m'__main__'\u001b[0m\u001b[1;33m:\u001b[0m\u001b[1;33m\u001b[0m\u001b[1;33m\u001b[0m\u001b[0m\n\u001b[0;32m     19\u001b[0m     \u001b[0minput_data\u001b[0m \u001b[1;33m=\u001b[0m \u001b[0msys\u001b[0m\u001b[1;33m.\u001b[0m\u001b[0mstdin\u001b[0m\u001b[1;33m.\u001b[0m\u001b[0mread\u001b[0m\u001b[1;33m(\u001b[0m\u001b[1;33m)\u001b[0m\u001b[1;33m.\u001b[0m\u001b[0msplit\u001b[0m\u001b[1;33m(\u001b[0m\u001b[1;33m)\u001b[0m\u001b[1;33m\u001b[0m\u001b[1;33m\u001b[0m\u001b[0m\n\u001b[1;32m---> 20\u001b[1;33m     \u001b[0mn\u001b[0m\u001b[1;33m,\u001b[0m \u001b[0mm\u001b[0m \u001b[1;33m=\u001b[0m \u001b[0mmap\u001b[0m\u001b[1;33m(\u001b[0m\u001b[0mint\u001b[0m\u001b[1;33m,\u001b[0m \u001b[0minput_data\u001b[0m\u001b[1;33m[\u001b[0m\u001b[1;33m:\u001b[0m\u001b[1;36m2\u001b[0m\u001b[1;33m]\u001b[0m\u001b[1;33m)\u001b[0m\u001b[1;33m\u001b[0m\u001b[1;33m\u001b[0m\u001b[0m\n\u001b[0m\u001b[0;32m     21\u001b[0m     \u001b[0mdata\u001b[0m \u001b[1;33m=\u001b[0m \u001b[0mlist\u001b[0m\u001b[1;33m(\u001b[0m\u001b[0mmap\u001b[0m\u001b[1;33m(\u001b[0m\u001b[0mint\u001b[0m\u001b[1;33m,\u001b[0m \u001b[0minput_data\u001b[0m\u001b[1;33m[\u001b[0m\u001b[1;36m2\u001b[0m\u001b[1;33m:\u001b[0m\u001b[1;33m]\u001b[0m\u001b[1;33m)\u001b[0m\u001b[1;33m)\u001b[0m\u001b[1;33m\u001b[0m\u001b[1;33m\u001b[0m\u001b[0m\n\u001b[0;32m     22\u001b[0m     \u001b[0medges\u001b[0m \u001b[1;33m=\u001b[0m \u001b[0mlist\u001b[0m\u001b[1;33m(\u001b[0m\u001b[0mzip\u001b[0m\u001b[1;33m(\u001b[0m\u001b[0mdata\u001b[0m\u001b[1;33m[\u001b[0m\u001b[1;36m0\u001b[0m\u001b[1;33m:\u001b[0m\u001b[1;33m(\u001b[0m\u001b[1;36m2\u001b[0m \u001b[1;33m*\u001b[0m \u001b[0mm\u001b[0m\u001b[1;33m)\u001b[0m\u001b[1;33m:\u001b[0m\u001b[1;36m2\u001b[0m\u001b[1;33m]\u001b[0m\u001b[1;33m,\u001b[0m \u001b[0mdata\u001b[0m\u001b[1;33m[\u001b[0m\u001b[1;36m1\u001b[0m\u001b[1;33m:\u001b[0m\u001b[1;33m(\u001b[0m\u001b[1;36m2\u001b[0m \u001b[1;33m*\u001b[0m \u001b[0mm\u001b[0m\u001b[1;33m)\u001b[0m\u001b[1;33m:\u001b[0m\u001b[1;36m2\u001b[0m\u001b[1;33m]\u001b[0m\u001b[1;33m)\u001b[0m\u001b[1;33m)\u001b[0m\u001b[1;33m\u001b[0m\u001b[1;33m\u001b[0m\u001b[0m\n",
      "\u001b[1;31mValueError\u001b[0m: not enough values to unpack (expected 2, got 0)"
     ]
    }
   ],
   "source": [
    "import sys\n",
    "\n",
    "def dfs(adj, used, order, vertex):\n",
    "    visited[vertex] = 1\n",
    "    for neighbor in adj[vertex]:\n",
    "        if not used[neighbor]:\n",
    "            dfs(adj, visited, order, neighbor)\n",
    "    order.append(vertex)\n",
    "\n",
    "def toposort(adj):\n",
    "    used = [0] * len(adj)\n",
    "    order = []\n",
    "    for vertex in range(len(adj)):\n",
    "        if not used[vertex]:\n",
    "            dfs(adj, used, order, vertex)\n",
    "    return order[::-1]\n",
    "\n",
    "if __name__ == '__main__':\n",
    "    input_data = sys.stdin.read().split()\n",
    "    n, m = map(int, input_data[:2])\n",
    "    data = list(map(int, input_data[2:]))\n",
    "    edges = list(zip(data[0:(2 * m):2], data[1:(2 * m):2]))\n",
    "    adj = [[] for _ in range(n)]\n",
    "    for (a, b) in edges:\n",
    "        adj[a - 1].append(b - 1)\n",
    "    order = toposort(adj)\n",
    "    for x in order:\n",
    "        print(x + 1, end=' ')\n"
   ]
  },
  {
   "cell_type": "code",
   "execution_count": null,
   "id": "b0b674a1",
   "metadata": {},
   "outputs": [],
   "source": []
  }
 ],
 "metadata": {
  "kernelspec": {
   "display_name": "Python 3 (ipykernel)",
   "language": "python",
   "name": "python3"
  },
  "language_info": {
   "codemirror_mode": {
    "name": "ipython",
    "version": 3
   },
   "file_extension": ".py",
   "mimetype": "text/x-python",
   "name": "python",
   "nbconvert_exporter": "python",
   "pygments_lexer": "ipython3",
   "version": "3.9.7"
  }
 },
 "nbformat": 4,
 "nbformat_minor": 5
}
