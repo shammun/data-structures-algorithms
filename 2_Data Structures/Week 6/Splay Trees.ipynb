{
 "cells": [
  {
   "cell_type": "code",
   "execution_count": 10,
   "id": "0c8f4eb3",
   "metadata": {},
   "outputs": [],
   "source": [
    "n = 4\n",
    "m = 2\n",
    "data = [1, 2, 3, 2, 1, 4]"
   ]
  },
  {
   "cell_type": "code",
   "execution_count": 11,
   "id": "c0d79e4d",
   "metadata": {},
   "outputs": [],
   "source": [
    "edges = list(zip(data[0:(2 * m):2], data[1:(2 * m):2]))"
   ]
  },
  {
   "cell_type": "code",
   "execution_count": 12,
   "id": "f784b714",
   "metadata": {},
   "outputs": [
    {
     "data": {
      "text/plain": [
       "[(1, 2), (3, 2)]"
      ]
     },
     "execution_count": 12,
     "metadata": {},
     "output_type": "execute_result"
    }
   ],
   "source": [
    "edges"
   ]
  },
  {
   "cell_type": "code",
   "execution_count": 14,
   "id": "ef864a7a",
   "metadata": {},
   "outputs": [
    {
     "name": "stdout",
     "output_type": "stream",
     "text": [
      "Adjacency list\n",
      "[[1], [0, 2], [1], []]\n"
     ]
    }
   ],
   "source": [
    "adj = [[] for _ in range(n)]\n",
    "for (a, b) in edges:\n",
    "    adj[a - 1].append(b - 1)\n",
    "    adj[b - 1].append(a - 1)\n",
    "print(\"Adjacency list\")\n",
    "print(adj)\n",
    "#print(number_of_components(adj))"
   ]
  },
  {
   "cell_type": "code",
   "execution_count": 15,
   "id": "470bd3c9",
   "metadata": {},
   "outputs": [
    {
     "data": {
      "text/plain": [
       "{0: set(), 1: set(), 2: set(), 3: set(), 4: set(), 5: set()}"
      ]
     },
     "execution_count": 15,
     "metadata": {},
     "output_type": "execute_result"
    }
   ],
   "source": [
    "adj_list = {i: set() for i in range(6)}\n",
    "adj_list"
   ]
  },
  {
   "cell_type": "code",
   "execution_count": 17,
   "id": "8b6c9056",
   "metadata": {},
   "outputs": [],
   "source": [
    "cc = [-1 for _ in range(4)]\n",
    "visited = [False for _ in range(4)]\n",
    "\n",
    "cc_i = 0"
   ]
  },
  {
   "cell_type": "code",
   "execution_count": 23,
   "id": "cac1fabf",
   "metadata": {},
   "outputs": [
    {
     "data": {
      "text/plain": [
       "[False, False, False, False]"
      ]
     },
     "execution_count": 23,
     "metadata": {},
     "output_type": "execute_result"
    }
   ],
   "source": [
    "visited"
   ]
  },
  {
   "cell_type": "code",
   "execution_count": 18,
   "id": "85b04432",
   "metadata": {},
   "outputs": [],
   "source": [
    "adj_list = {0: {1}, 1: {0, 2}, 2: {1}, 3: set()}"
   ]
  },
  {
   "cell_type": "code",
   "execution_count": 22,
   "id": "525f1b84",
   "metadata": {},
   "outputs": [
    {
     "name": "stdout",
     "output_type": "stream",
     "text": [
      "{1}\n",
      "{0, 2}\n",
      "{1}\n",
      "set()\n"
     ]
    }
   ],
   "source": [
    "for v, neighbours in adj_list.items():\n",
    "    print(neighbours)"
   ]
  },
  {
   "cell_type": "code",
   "execution_count": 30,
   "id": "d9042420",
   "metadata": {},
   "outputs": [],
   "source": [
    "neighbours = set()\n",
    "from collections import namedtuple, deque\n",
    "q = deque(neighbours)"
   ]
  },
  {
   "cell_type": "code",
   "execution_count": 31,
   "id": "4c83680d",
   "metadata": {},
   "outputs": [
    {
     "data": {
      "text/plain": [
       "deque([])"
      ]
     },
     "execution_count": 31,
     "metadata": {},
     "output_type": "execute_result"
    }
   ],
   "source": [
    "q"
   ]
  },
  {
   "cell_type": "code",
   "execution_count": 32,
   "id": "741dcc26",
   "metadata": {},
   "outputs": [
    {
     "data": {
      "text/plain": [
       "set()"
      ]
     },
     "execution_count": 32,
     "metadata": {},
     "output_type": "execute_result"
    }
   ],
   "source": [
    "neighbours"
   ]
  },
  {
   "cell_type": "code",
   "execution_count": 33,
   "id": "831883b2",
   "metadata": {},
   "outputs": [
    {
     "ename": "IndexError",
     "evalue": "pop from an empty deque",
     "output_type": "error",
     "traceback": [
      "\u001b[1;31m---------------------------------------------------------------------------\u001b[0m",
      "\u001b[1;31mIndexError\u001b[0m                                Traceback (most recent call last)",
      "Cell \u001b[1;32mIn[33], line 1\u001b[0m\n\u001b[1;32m----> 1\u001b[0m cur \u001b[38;5;241m=\u001b[39m \u001b[43mq\u001b[49m\u001b[38;5;241;43m.\u001b[39;49m\u001b[43mpopleft\u001b[49m\u001b[43m(\u001b[49m\u001b[43m)\u001b[49m\n",
      "\u001b[1;31mIndexError\u001b[0m: pop from an empty deque"
     ]
    }
   ],
   "source": [
    "cur = q.popleft()"
   ]
  },
  {
   "cell_type": "code",
   "execution_count": 28,
   "id": "1f926ca3",
   "metadata": {},
   "outputs": [
    {
     "data": {
      "text/plain": [
       "1"
      ]
     },
     "execution_count": 28,
     "metadata": {},
     "output_type": "execute_result"
    }
   ],
   "source": [
    "cur"
   ]
  },
  {
   "cell_type": "code",
   "execution_count": 29,
   "id": "54914ad3",
   "metadata": {},
   "outputs": [
    {
     "data": {
      "text/plain": [
       "deque([])"
      ]
     },
     "execution_count": 29,
     "metadata": {},
     "output_type": "execute_result"
    }
   ],
   "source": [
    "q"
   ]
  },
  {
   "cell_type": "code",
   "execution_count": null,
   "id": "221ca2da",
   "metadata": {},
   "outputs": [],
   "source": []
  }
 ],
 "metadata": {
  "kernelspec": {
   "display_name": "Python 3 (ipykernel)",
   "language": "python",
   "name": "python3"
  },
  "language_info": {
   "codemirror_mode": {
    "name": "ipython",
    "version": 3
   },
   "file_extension": ".py",
   "mimetype": "text/x-python",
   "name": "python",
   "nbconvert_exporter": "python",
   "pygments_lexer": "ipython3",
   "version": "3.9.13"
  }
 },
 "nbformat": 4,
 "nbformat_minor": 5
}
