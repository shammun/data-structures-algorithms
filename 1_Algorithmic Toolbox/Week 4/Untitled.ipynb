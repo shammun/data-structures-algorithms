{
 "cells": [
  {
   "cell_type": "code",
   "execution_count": 9,
   "id": "eb422918",
   "metadata": {},
   "outputs": [],
   "source": [
    "def majority_element(arr):\n",
    "    # Base case: if the array has only one element, it is the majority element\n",
    "    if len(arr) == 1:\n",
    "        return arr[0]\n",
    "\n",
    "    # Divide the array into two halves\n",
    "    mid = len(arr) // 2\n",
    "    left_half = arr[:mid]\n",
    "    right_half = arr[mid:]\n",
    "\n",
    "    # Recursively find the majority element in each half\n",
    "    left_majority = majority_element(left_half)\n",
    "    right_majority = majority_element(right_half)\n",
    "\n",
    "    # If the left and right halves have the same majority element, it is the overall majority element\n",
    "    if left_majority == right_majority:\n",
    "        return left_majority\n",
    "\n",
    "    # Otherwise, count the occurrences of each candidate majority element\n",
    "    left_count = sum(1 for elem in left_half if elem == left_majority)\n",
    "    right_count = sum(1 for elem in right_half if elem == right_majority)\n",
    "\n",
    "    # Return the overall majority element, if it exists\n",
    "    if left_count > len(arr) // 2:\n",
    "        return left_majority\n",
    "    elif right_count > len(arr) // 2:\n",
    "        return right_majority\n",
    "    else:\n",
    "        return None\n"
   ]
  },
  {
   "cell_type": "code",
   "execution_count": 11,
   "id": "e21e5bb2",
   "metadata": {},
   "outputs": [
    {
     "name": "stdout",
     "output_type": "stream",
     "text": [
      "2\n"
     ]
    }
   ],
   "source": [
    "print(majority_element([2,2,2,2]))"
   ]
  },
  {
   "cell_type": "code",
   "execution_count": 31,
   "id": "ec0b3fc5",
   "metadata": {},
   "outputs": [],
   "source": [
    "def majority_element(array):\n",
    "    array.sort()\n",
    "    print(f\"The value of array is {array}\")\n",
    "    count = 1\n",
    "    max_num = -1\n",
    "    temp = array[0]\n",
    "    \n",
    "    for i in range(1,len(array)):\n",
    "        print(f\"i is {i}\")\n",
    "        print(f\"temp is {array[i]}\")\n",
    "        if temp == array[i]:\n",
    "            count += 1\n",
    "            print(f\"After increasing by 1, count is {count}\")\n",
    "        else:\n",
    "            print(\"Within else block\")\n",
    "            print(\"Count is 1 now\")\n",
    "            count = 1\n",
    "            temp = array[i]\n",
    "        if max_num < count:\n",
    "            print(f\"max_num previously was {max_num}\")\n",
    "            print(\"max_num is less than count\")\n",
    "            max_num = count\n",
    "            print(f\"Now, the value of max_num is {max_num}\")\n",
    "            majority = array[i]\n",
    "            print(f\"The value of max_num is {max_num} and the value of len(array) is {len(array)}\")\n",
    "            if max_num > len(array) // 2:\n",
    "                return 1\n",
    "            \n",
    "    return 0"
   ]
  },
  {
   "cell_type": "code",
   "execution_count": 35,
   "id": "a9183f9e",
   "metadata": {},
   "outputs": [
    {
     "name": "stdout",
     "output_type": "stream",
     "text": [
      "The value of array is [2, 2, 2, 3, 4, 6, 7, 8, 8, 8, 8, 8, 8, 8, 8, 8, 8, 8, 8, 9]\n",
      "i is 1\n",
      "temp is 2\n",
      "After increasing by 1, count is 2\n",
      "max_num previously was -1\n",
      "max_num is less than count\n",
      "Now, the value of max_num is 2\n",
      "The value of max_num is 2 and the value of len(array) is 20\n",
      "i is 2\n",
      "temp is 2\n",
      "After increasing by 1, count is 3\n",
      "max_num previously was 2\n",
      "max_num is less than count\n",
      "Now, the value of max_num is 3\n",
      "The value of max_num is 3 and the value of len(array) is 20\n",
      "i is 3\n",
      "temp is 3\n",
      "Within else block\n",
      "Count is 1 now\n",
      "i is 4\n",
      "temp is 4\n",
      "Within else block\n",
      "Count is 1 now\n",
      "i is 5\n",
      "temp is 6\n",
      "Within else block\n",
      "Count is 1 now\n",
      "i is 6\n",
      "temp is 7\n",
      "Within else block\n",
      "Count is 1 now\n",
      "i is 7\n",
      "temp is 8\n",
      "Within else block\n",
      "Count is 1 now\n",
      "i is 8\n",
      "temp is 8\n",
      "After increasing by 1, count is 2\n",
      "i is 9\n",
      "temp is 8\n",
      "After increasing by 1, count is 3\n",
      "i is 10\n",
      "temp is 8\n",
      "After increasing by 1, count is 4\n",
      "max_num previously was 3\n",
      "max_num is less than count\n",
      "Now, the value of max_num is 4\n",
      "The value of max_num is 4 and the value of len(array) is 20\n",
      "i is 11\n",
      "temp is 8\n",
      "After increasing by 1, count is 5\n",
      "max_num previously was 4\n",
      "max_num is less than count\n",
      "Now, the value of max_num is 5\n",
      "The value of max_num is 5 and the value of len(array) is 20\n",
      "i is 12\n",
      "temp is 8\n",
      "After increasing by 1, count is 6\n",
      "max_num previously was 5\n",
      "max_num is less than count\n",
      "Now, the value of max_num is 6\n",
      "The value of max_num is 6 and the value of len(array) is 20\n",
      "i is 13\n",
      "temp is 8\n",
      "After increasing by 1, count is 7\n",
      "max_num previously was 6\n",
      "max_num is less than count\n",
      "Now, the value of max_num is 7\n",
      "The value of max_num is 7 and the value of len(array) is 20\n",
      "i is 14\n",
      "temp is 8\n",
      "After increasing by 1, count is 8\n",
      "max_num previously was 7\n",
      "max_num is less than count\n",
      "Now, the value of max_num is 8\n",
      "The value of max_num is 8 and the value of len(array) is 20\n",
      "i is 15\n",
      "temp is 8\n",
      "After increasing by 1, count is 9\n",
      "max_num previously was 8\n",
      "max_num is less than count\n",
      "Now, the value of max_num is 9\n",
      "The value of max_num is 9 and the value of len(array) is 20\n",
      "i is 16\n",
      "temp is 8\n",
      "After increasing by 1, count is 10\n",
      "max_num previously was 9\n",
      "max_num is less than count\n",
      "Now, the value of max_num is 10\n",
      "The value of max_num is 10 and the value of len(array) is 20\n",
      "i is 17\n",
      "temp is 8\n",
      "After increasing by 1, count is 11\n",
      "max_num previously was 10\n",
      "max_num is less than count\n",
      "Now, the value of max_num is 11\n",
      "The value of max_num is 11 and the value of len(array) is 20\n"
     ]
    },
    {
     "data": {
      "text/plain": [
       "1"
      ]
     },
     "execution_count": 35,
     "metadata": {},
     "output_type": "execute_result"
    }
   ],
   "source": [
    "majority_element([2, 3, 9, 2, 2,4,6,7,8,8,8,8,8,8,8,8,8,8,8,8])"
   ]
  },
  {
   "cell_type": "code",
   "execution_count": 38,
   "id": "6e5b0d86",
   "metadata": {},
   "outputs": [
    {
     "name": "stdout",
     "output_type": "stream",
     "text": [
      "7\n",
      "1 2 3 3 3 3 4\n",
      "1\n"
     ]
    }
   ],
   "source": [
    "def majority_element(array):\n",
    "    array.sort()\n",
    "    count = 1\n",
    "    max_num = -1\n",
    "    temp = array[0]\n",
    "    \n",
    "    for i in range(1,len(array)):\n",
    "        if temp == array[i]:\n",
    "            count += 1\n",
    "        else:\n",
    "            count = 1\n",
    "            temp = array[i]\n",
    "        if max_num < count:\n",
    "            max_num = count\n",
    "            majority = array[i]\n",
    "            if max_num > len(array) // 2:\n",
    "                return 1\n",
    "            \n",
    "    return 0 \n",
    "\n",
    "if __name__ == '__main__':\n",
    "    input_n = int(input())\n",
    "    input_elements = list(map(int, input().split()))\n",
    "    assert len(input_elements) == input_n\n",
    "    print(majority_element(input_elements))"
   ]
  },
  {
   "cell_type": "code",
   "execution_count": 37,
   "id": "b706b9f7",
   "metadata": {},
   "outputs": [
    {
     "data": {
      "text/plain": [
       "1"
      ]
     },
     "execution_count": 37,
     "metadata": {},
     "output_type": "execute_result"
    }
   ],
   "source": [
    "majority_element([2, 3, 9, 2, 2,4,6,7,8,8,8,8,8,8,8,8,8,8,8,8])"
   ]
  },
  {
   "cell_type": "code",
   "execution_count": 39,
   "id": "393fe7fc",
   "metadata": {},
   "outputs": [
    {
     "name": "stdout",
     "output_type": "stream",
     "text": [
      "[1, 2, 3, 4, 5, 6, 7, 8, 9]\n"
     ]
    }
   ],
   "source": [
    "from random import randint\n",
    "\n",
    "def partition3(arr, low, high):\n",
    "    \"\"\"\n",
    "    Partitions the array into three parts:\n",
    "    1. Elements less than the pivot\n",
    "    2. Elements equal to the pivot\n",
    "    3. Elements greater than the pivot\n",
    "    \"\"\"\n",
    "    pivot = arr[low]\n",
    "    i = low\n",
    "    lt = low\n",
    "    gt = high\n",
    "    while i <= gt:\n",
    "        if arr[i] < pivot:\n",
    "            arr[i], arr[lt] = arr[lt], arr[i]\n",
    "            i += 1\n",
    "            lt += 1\n",
    "        elif arr[i] > pivot:\n",
    "            arr[i], arr[gt] = arr[gt], arr[i]\n",
    "            gt -= 1\n",
    "        else:\n",
    "            i += 1\n",
    "    return lt, gt\n",
    "\n",
    "def quicksort(arr, low, high):\n",
    "    \"\"\"\n",
    "    Sorts the array in place using quicksort algorithm.\n",
    "    \"\"\"\n",
    "    if low >= high:\n",
    "        return\n",
    "    lt, gt = partition3(arr, low, high)\n",
    "    quicksort(arr, low, lt - 1)\n",
    "    quicksort(arr, gt + 1, high)\n",
    "\n",
    "# Example usage\n",
    "arr = [3, 7, 2, 8, 4, 5, 1, 9, 6]\n",
    "quicksort(arr, 0, len(arr)-1)\n",
    "print(arr)"
   ]
  },
  {
   "cell_type": "code",
   "execution_count": null,
   "id": "37c54549",
   "metadata": {},
   "outputs": [],
   "source": []
  }
 ],
 "metadata": {
  "kernelspec": {
   "display_name": "Python 3 (ipykernel)",
   "language": "python",
   "name": "python3"
  },
  "language_info": {
   "codemirror_mode": {
    "name": "ipython",
    "version": 3
   },
   "file_extension": ".py",
   "mimetype": "text/x-python",
   "name": "python",
   "nbconvert_exporter": "python",
   "pygments_lexer": "ipython3",
   "version": "3.9.13"
  }
 },
 "nbformat": 4,
 "nbformat_minor": 5
}
