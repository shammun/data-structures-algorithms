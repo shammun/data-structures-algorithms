{
 "cells": [
  {
   "cell_type": "code",
   "execution_count": 1,
   "id": "b61e57c3",
   "metadata": {},
   "outputs": [],
   "source": [
    "from itertools import permutations"
   ]
  },
  {
   "cell_type": "code",
   "execution_count": 6,
   "id": "f9f2944c",
   "metadata": {},
   "outputs": [],
   "source": [
    "first_sequence = [200, 300,  120]\n",
    "second_sequence = [67, 45, 78]"
   ]
  },
  {
   "cell_type": "code",
   "execution_count": 14,
   "id": "92cad252",
   "metadata": {},
   "outputs": [
    {
     "name": "stdout",
     "output_type": "stream",
     "text": [
      "(67, 45, 78)\n",
      "36260\n",
      "(67, 78, 45)\n",
      "42200\n",
      "(45, 67, 78)\n",
      "38460\n",
      "(45, 78, 67)\n",
      "40440\n",
      "(78, 67, 45)\n",
      "41100\n",
      "(78, 45, 67)\n",
      "37140\n"
     ]
    }
   ],
   "source": [
    "for permutation in permutations(second_sequence):\n",
    "    print(permutation)\n",
    "    dot_product = sum(first_sequence[i] * permutation[i] for i in range(len(first_sequence)))\n",
    "    print(dot_product)"
   ]
  },
  {
   "cell_type": "code",
   "execution_count": 4,
   "id": "1e8bc287",
   "metadata": {},
   "outputs": [
    {
     "ename": "TypeError",
     "evalue": "'itertools.permutations' object is not subscriptable",
     "output_type": "error",
     "traceback": [
      "\u001b[1;31m---------------------------------------------------------------------------\u001b[0m",
      "\u001b[1;31mTypeError\u001b[0m                                 Traceback (most recent call last)",
      "Cell \u001b[1;32mIn[4], line 2\u001b[0m\n\u001b[0;32m      1\u001b[0m ll \u001b[38;5;241m=\u001b[39m permutations(second_sequence)\n\u001b[1;32m----> 2\u001b[0m \u001b[43mll\u001b[49m\u001b[43m[\u001b[49m\u001b[38;5;241;43m0\u001b[39;49m\u001b[43m]\u001b[49m\n",
      "\u001b[1;31mTypeError\u001b[0m: 'itertools.permutations' object is not subscriptable"
     ]
    }
   ],
   "source": [
    "ll = permutations(second_sequence)\n",
    "ll[0]"
   ]
  },
  {
   "cell_type": "code",
   "execution_count": 25,
   "id": "37331e75",
   "metadata": {},
   "outputs": [
    {
     "data": {
      "text/plain": [
       "[(4, 4), (7, 1), (3, 2), (5, 5)]"
      ]
     },
     "execution_count": 25,
     "metadata": {},
     "output_type": "execute_result"
    }
   ],
   "source": [
    "data = [4, 4, 7, 1, 3, 2, 5, 5, 6]\n",
    "segments = list(zip(data[::2], data[1::2]))\n",
    "segments"
   ]
  },
  {
   "cell_type": "code",
   "execution_count": 26,
   "id": "9cb2d04f",
   "metadata": {},
   "outputs": [
    {
     "data": {
      "text/plain": [
       "[4, 7, 3, 5, 6]"
      ]
     },
     "execution_count": 26,
     "metadata": {},
     "output_type": "execute_result"
    }
   ],
   "source": [
    "data[::2]"
   ]
  },
  {
   "cell_type": "code",
   "execution_count": 27,
   "id": "93277d01",
   "metadata": {},
   "outputs": [
    {
     "data": {
      "text/plain": [
       "[4, 1, 2, 5]"
      ]
     },
     "execution_count": 27,
     "metadata": {},
     "output_type": "execute_result"
    }
   ],
   "source": [
    "data[1::2]"
   ]
  },
  {
   "cell_type": "code",
   "execution_count": 28,
   "id": "1aeb9921",
   "metadata": {},
   "outputs": [],
   "source": [
    "from collections import namedtuple\n",
    "\n",
    "Segment = namedtuple('Segment', 'start end')"
   ]
  },
  {
   "cell_type": "code",
   "execution_count": 34,
   "id": "2cea9f0e",
   "metadata": {},
   "outputs": [],
   "source": [
    "segments = list(map(lambda x: Segment(x[0], x[1]), zip(data[::2], data[1::2])))"
   ]
  },
  {
   "cell_type": "code",
   "execution_count": 35,
   "id": "a0002d17",
   "metadata": {},
   "outputs": [
    {
     "data": {
      "text/plain": [
       "[Segment(start=4, end=4),\n",
       " Segment(start=7, end=1),\n",
       " Segment(start=3, end=2),\n",
       " Segment(start=5, end=5)]"
      ]
     },
     "execution_count": 35,
     "metadata": {},
     "output_type": "execute_result"
    }
   ],
   "source": [
    "segments"
   ]
  },
  {
   "cell_type": "code",
   "execution_count": 36,
   "id": "e211f340",
   "metadata": {},
   "outputs": [],
   "source": [
    "segments.sort(key=lambda x: x.end)"
   ]
  },
  {
   "cell_type": "code",
   "execution_count": 37,
   "id": "58860f1e",
   "metadata": {},
   "outputs": [
    {
     "data": {
      "text/plain": [
       "[Segment(start=7, end=1),\n",
       " Segment(start=3, end=2),\n",
       " Segment(start=4, end=4),\n",
       " Segment(start=5, end=5)]"
      ]
     },
     "execution_count": 37,
     "metadata": {},
     "output_type": "execute_result"
    }
   ],
   "source": [
    "segments"
   ]
  },
  {
   "cell_type": "code",
   "execution_count": 38,
   "id": "c373bd74",
   "metadata": {},
   "outputs": [],
   "source": [
    "points = []\n",
    "current_point = float('-inf')\n",
    "# Iterate over segments\n",
    "for s in segments:\n",
    "    # If the current point is not contained in the segment\n",
    "    if current_point < s.start:\n",
    "        # Add the end point of the segment to the points list\n",
    "        points.append(s.end)\n",
    "        # Update the current point to the end point of the segment\n",
    "        current_point = s.end"
   ]
  },
  {
   "cell_type": "code",
   "execution_count": 39,
   "id": "7c545496",
   "metadata": {},
   "outputs": [
    {
     "data": {
      "text/plain": [
       "[1, 2, 4, 5]"
      ]
     },
     "execution_count": 39,
     "metadata": {},
     "output_type": "execute_result"
    }
   ],
   "source": [
    "points"
   ]
  },
  {
   "cell_type": "code",
   "execution_count": 40,
   "id": "b4b0ec45",
   "metadata": {},
   "outputs": [
    {
     "name": "stdout",
     "output_type": "stream",
     "text": [
      "\n"
     ]
    }
   ],
   "source": [
    "# Uses python3\n",
    "\n",
    "import sys\n",
    "\n",
    "import math\n",
    "\n",
    "\n",
    "def is_greater(digit, max_digit):\n",
    "    return digit + max_digit > max_digit + digit\n",
    "\n",
    "\n",
    "def largest_number(digits):\n",
    "    # write your code here\n",
    "    res = \"\"\n",
    "\n",
    "    while len(digits) != 0:\n",
    "        max_digit = '0'\n",
    "        for digit in digits:\n",
    "            # print(\"digit str \", digit_str)\n",
    "            if is_greater(digit, max_digit):\n",
    "                max_digit = digit\n",
    "                # print(\"max\", max_digit)\n",
    "        res += max_digit\n",
    "        # print(max_digit)\n",
    "        digits.remove(max_digit)\n",
    "    return res\n",
    "\n",
    "\n",
    "if __name__ == '__main__':\n",
    "    input = sys.stdin.read()\n",
    "    data = input.split()\n",
    "    digits = data[1:]\n",
    "    print(largest_number(digits))\n"
   ]
  },
  {
   "cell_type": "code",
   "execution_count": null,
   "id": "db68e94b",
   "metadata": {},
   "outputs": [],
   "source": []
  }
 ],
 "metadata": {
  "kernelspec": {
   "display_name": "Python 3 (ipykernel)",
   "language": "python",
   "name": "python3"
  },
  "language_info": {
   "codemirror_mode": {
    "name": "ipython",
    "version": 3
   },
   "file_extension": ".py",
   "mimetype": "text/x-python",
   "name": "python",
   "nbconvert_exporter": "python",
   "pygments_lexer": "ipython3",
   "version": "3.9.13"
  }
 },
 "nbformat": 4,
 "nbformat_minor": 5
}
