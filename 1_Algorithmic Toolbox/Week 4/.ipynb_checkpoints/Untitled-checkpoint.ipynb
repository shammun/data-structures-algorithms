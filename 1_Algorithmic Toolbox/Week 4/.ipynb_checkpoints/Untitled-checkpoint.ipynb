{
 "cells": [
  {
   "cell_type": "code",
   "execution_count": 9,
   "id": "0cd0d293",
   "metadata": {},
   "outputs": [],
   "source": [
    "def majority_element(arr):\n",
    "    # Base case: if the array has only one element, it is the majority element\n",
    "    if len(arr) == 1:\n",
    "        return arr[0]\n",
    "\n",
    "    # Divide the array into two halves\n",
    "    mid = len(arr) // 2\n",
    "    left_half = arr[:mid]\n",
    "    right_half = arr[mid:]\n",
    "\n",
    "    # Recursively find the majority element in each half\n",
    "    left_majority = majority_element(left_half)\n",
    "    right_majority = majority_element(right_half)\n",
    "\n",
    "    # If the left and right halves have the same majority element, it is the overall majority element\n",
    "    if left_majority == right_majority:\n",
    "        return left_majority\n",
    "\n",
    "    # Otherwise, count the occurrences of each candidate majority element\n",
    "    left_count = sum(1 for elem in left_half if elem == left_majority)\n",
    "    right_count = sum(1 for elem in right_half if elem == right_majority)\n",
    "\n",
    "    # Return the overall majority element, if it exists\n",
    "    if left_count > len(arr) // 2:\n",
    "        return left_majority\n",
    "    elif right_count > len(arr) // 2:\n",
    "        return right_majority\n",
    "    else:\n",
    "        return None\n"
   ]
  },
  {
   "cell_type": "code",
   "execution_count": 11,
   "id": "f8ab9f9d",
   "metadata": {},
   "outputs": [
    {
     "name": "stdout",
     "output_type": "stream",
     "text": [
      "2\n"
     ]
    }
   ],
   "source": [
    "print(majority_element([2,2,2,2]))"
   ]
  },
  {
   "cell_type": "code",
   "execution_count": 22,
   "id": "f3973280",
   "metadata": {},
   "outputs": [
    {
     "ename": "SyntaxError",
     "evalue": "invalid syntax (2941234364.py, line 13)",
     "output_type": "error",
     "traceback": [
      "\u001b[1;36m  Cell \u001b[1;32mIn[22], line 13\u001b[1;36m\u001b[0m\n\u001b[1;33m    else:\u001b[0m\n\u001b[1;37m    ^\u001b[0m\n\u001b[1;31mSyntaxError\u001b[0m\u001b[1;31m:\u001b[0m invalid syntax\n"
     ]
    }
   ],
   "source": [
    "def majority_element(array):\n",
    "    array.sort()\n",
    "    print(f\"The value of array is {array}\")\n",
    "    count = 0\n",
    "    max_num = -1\n",
    "    temp = array[0]\n",
    "    \n",
    "    for i in range(1,len(array)):\n",
    "        print(f\"temp is {array[i]}\")\n",
    "        if temp == array[i]:\n",
    "            count += 1\n",
    "            print(f\"count is {count}\")\n",
    "        else:\n",
    "            print(\"Within else block\")\n",
    "            print(\"Count is 1 now\")\n",
    "            count = 1\n",
    "            temp = array[i]\n",
    "        if max_num < count:\n",
    "            print(\"max_num is less than count\")\n",
    "            max_num = count\n",
    "            print(f\"Now, the value of max_num is {max_num}\")\n",
    "            majority = array[i]\n",
    "            print(f\"i is {i}\")\n",
    "            print(f\"The value of max_num is {max_num} and the value of len(array) is {len(array)}\")\n",
    "            if max_num > len(array) // 2:\n",
    "                return 1\n",
    "            \n",
    "    return 0"
   ]
  },
  {
   "cell_type": "code",
   "execution_count": 23,
   "id": "815138c7",
   "metadata": {},
   "outputs": [
    {
     "name": "stdout",
     "output_type": "stream",
     "text": [
      "i is 1\n",
      "1\n",
      "i is 2\n",
      "2\n"
     ]
    },
    {
     "data": {
      "text/plain": [
       "0"
      ]
     },
     "execution_count": 23,
     "metadata": {},
     "output_type": "execute_result"
    }
   ],
   "source": [
    "majority_element([2, 3, 9, 2, 2])"
   ]
  },
  {
   "cell_type": "code",
   "execution_count": null,
   "id": "9631f862",
   "metadata": {},
   "outputs": [],
   "source": []
  }
 ],
 "metadata": {
  "kernelspec": {
   "display_name": "Python 3 (ipykernel)",
   "language": "python",
   "name": "python3"
  },
  "language_info": {
   "codemirror_mode": {
    "name": "ipython",
    "version": 3
   },
   "file_extension": ".py",
   "mimetype": "text/x-python",
   "name": "python",
   "nbconvert_exporter": "python",
   "pygments_lexer": "ipython3",
   "version": "3.9.13"
  }
 },
 "nbformat": 4,
 "nbformat_minor": 5
}
